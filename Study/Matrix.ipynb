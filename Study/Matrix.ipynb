{
 "cells": [
  {
   "cell_type": "code",
   "execution_count": 2,
   "metadata": {
    "id": "O80mn6FM3sem"
   },
   "outputs": [],
   "source": [
    "import numpy as np\n",
    "import matplotlib.pyplot as plt\n",
    "import pandas as pd"
   ]
  },
  {
   "cell_type": "markdown",
   "metadata": {
    "id": "uW5lh1KpWtlT"
   },
   "source": [
    "## 행렬과 벡터"
   ]
  },
  {
   "cell_type": "markdown",
   "metadata": {
    "id": "00xOTzo_Wyb-"
   },
   "source": [
    "### 덧셈\n",
    "\n",
    "- 행렬과 행렬은 덧셈은 요소끼리 덧셈으로 정의 되므로 같은 모양의 행렬만 덧셈가능\n",
    "\n",
    "- 아래 셀은 `numpy`에서 제공하는 `np.matrix` 자료형을 사용\n",
    "\n",
    "- 머신러닝 딥러닝에서 `numpy`를 사용하여 행렬을 표현할때는 거의 `np.array`형을 사용하나 여기서는 행렬형을 소개하기 위해 일부러 `np.matrix`를 사용했음"
   ]
  },
  {
   "cell_type": "code",
   "execution_count": 89,
   "metadata": {
    "id": "BS3POl0u5Sps"
   },
   "outputs": [
    {
     "name": "stdout",
     "output_type": "stream",
     "text": [
      "A:\n",
      "[[1 2]\n",
      " [3 4]] \n",
      "B:\n",
      " [[10 20]\n",
      " [30 40]]\n"
     ]
    }
   ],
   "source": [
    "# 행렬과 행렬의 덧셈은 요소끼리 덧셈\n",
    "A = np.matrix([[1,2],[3,4]])\n",
    "B = np.matrix([[10,20],[30,40]])\n",
    "print(f\"A:\\n{A} \\nB:\\n {B}\")"
   ]
  },
  {
   "cell_type": "code",
   "execution_count": 90,
   "metadata": {},
   "outputs": [
    {
     "data": {
      "text/plain": [
       "matrix([[11, 22],\n",
       "        [33, 44]])"
      ]
     },
     "execution_count": 90,
     "metadata": {},
     "output_type": "execute_result"
    }
   ],
   "source": [
    "A+B"
   ]
  },
  {
   "cell_type": "markdown",
   "metadata": {
    "id": "XPymGuDWW1fj"
   },
   "source": [
    "### 스칼라 곱셈"
   ]
  },
  {
   "cell_type": "code",
   "execution_count": 93,
   "metadata": {
    "id": "XkTYgUS5WwOs"
   },
   "outputs": [
    {
     "name": "stdout",
     "output_type": "stream",
     "text": [
      "B:\n",
      "[[10 20]\n",
      " [30 40]]\n",
      "Bx3:\n",
      "[[ 30  60]\n",
      " [ 90 120]]\n"
     ]
    }
   ],
   "source": [
    "# 행렬과 스칼라의 곱셈은 전체 요소에 곱셈\n",
    "print(f\"B:\\n{B}\\nBx3:\\n{B*3}\")"
   ]
  },
  {
   "cell_type": "markdown",
   "metadata": {
    "id": "T4vsAe6uW6TT"
   },
   "source": [
    "### 곱셈\n",
    "\n",
    "- 두 행렬 $A$와 $B$의 곱셈은 다음처럼 정의 됨\n",
    "\n",
    "$$\n",
    "C_{ik} = \\sum_{k} a_{ik} b_{kj}\n",
    "$$\n",
    "\n",
    "- 즉 앞에서 곱해지는 행렬의 $i$번째 행과 뒤에서 곱해지는 $j$번째 열을 내적하는 형태로 정의\n",
    "\n",
    "- 내적은 숫자 여러개를 다 곱한 다음 그 곱셈한 숫자 여러개를 다시 더해 숫자 하나로 만드는 연산\n",
    "\n",
    "- 따라서 앞에서 곱해지는 행렬의 행과 뒤에서 곱해지는 열의 길이가 같아야 곱셈이 성립\n",
    "\n",
    "- 이런 정의 때문에 행렬곱셈의 교환법칙은 성립하지 않음\n",
    "\n",
    "- 이렇게 독특하게 정의된 연산을 위해 보통 곱하기 연산자 `*`를 쓰지않고 \n",
    "`np.dot()`을 사용하며 그냥 `*`연산자를 쓰고 싶다면 `*`를 재정의한 `np.matrix`를 사용하면 되는데 보통은 그냥 `np.array`를 행렬 정의에 사용하고 `np.dot()`로 계산하는 편임"
   ]
  },
  {
   "cell_type": "code",
   "execution_count": 116,
   "metadata": {
    "id": "-6Cvb3JZW3ka"
   },
   "outputs": [
    {
     "name": "stdout",
     "output_type": "stream",
     "text": [
      "A:\n",
      "[[1 2 3]\n",
      " [4 5 6]],\n",
      "-------------\n",
      "B:\n",
      "[[2 1]\n",
      " [1 2]\n",
      " [1 1]]\n",
      "-------------\n",
      "\n",
      "A size:(2, 3),\n",
      "B size:(3, 2)\n",
      "Shape of A*B:(2, 2)\n",
      "A*B:\n",
      "[[ 7  8]\n",
      " [19 20]]\n"
     ]
    }
   ],
   "source": [
    "# 행렬과 행렬의 곱셈\n",
    "A = np.array([[1,2,3], [4,5,6]]) \n",
    "B = np.array([[2,1], [1,2], [1,1]])\n",
    "print(f\"A:\\n{A},\\n-------------\\nB:\\n{B}\\n-------------\\n\")\n",
    "print(f\"A size:{A.shape},\\nB size:{B.shape}\")\n",
    "print(f\"Shape of A*B:{(np.dot(A,B)).shape}\\nA*B:\\n{(np.dot(A,B))}\")"
   ]
  },
  {
   "cell_type": "code",
   "execution_count": 117,
   "metadata": {},
   "outputs": [
    {
     "ename": "ValueError",
     "evalue": "operands could not be broadcast together with shapes (2,3) (3,2) ",
     "output_type": "error",
     "traceback": [
      "\u001b[0;31m---------------------------------------------------------------------------\u001b[0m",
      "\u001b[0;31mValueError\u001b[0m                                Traceback (most recent call last)",
      "Cell \u001b[0;32mIn[117], line 2\u001b[0m\n\u001b[1;32m      1\u001b[0m \u001b[38;5;66;03m# 그냥 곱하면 에러가 남 \u001b[39;00m\n\u001b[0;32m----> 2\u001b[0m A\u001b[38;5;241m*\u001b[39mB\n",
      "\u001b[0;31mValueError\u001b[0m: operands could not be broadcast together with shapes (2,3) (3,2) "
     ]
    }
   ],
   "source": [
    "# 그냥 곱하면 에러가 남 \n",
    "A*B"
   ]
  },
  {
   "cell_type": "code",
   "execution_count": 110,
   "metadata": {},
   "outputs": [
    {
     "data": {
      "text/plain": [
       "matrix([[ 7,  8],\n",
       "        [19, 20]])"
      ]
     },
     "execution_count": 110,
     "metadata": {},
     "output_type": "execute_result"
    }
   ],
   "source": [
    "########################################\n",
    "# 그냥 곱하고 싶으면?\n",
    "A_ = np.matrix(A)\n",
    "B_ = np.matrix(B)\n",
    "\n",
    "A_*B_"
   ]
  },
  {
   "cell_type": "markdown",
   "metadata": {
    "id": "X38Bz6NSXK7u"
   },
   "source": [
    "### 행렬의 전치\n",
    "\n",
    "- 행렬에서 행을 열로 열을 행으로 보내는 연산"
   ]
  },
  {
   "cell_type": "code",
   "execution_count": 111,
   "metadata": {
    "id": "jNpjsdfnW8Bi"
   },
   "outputs": [
    {
     "name": "stdout",
     "output_type": "stream",
     "text": [
      "[[1 2 3]\n",
      " [4 5 6]]\n"
     ]
    }
   ],
   "source": [
    "# 열을 행으로 행을 열로\n",
    "A = np.matrix([[1,2,3],[4,5,6]])\n",
    "print(A)"
   ]
  },
  {
   "cell_type": "code",
   "execution_count": 112,
   "metadata": {},
   "outputs": [
    {
     "data": {
      "text/plain": [
       "matrix([[1, 4],\n",
       "        [2, 5],\n",
       "        [3, 6]])"
      ]
     },
     "execution_count": 112,
     "metadata": {},
     "output_type": "execute_result"
    }
   ],
   "source": [
    "A.T"
   ]
  },
  {
   "cell_type": "markdown",
   "metadata": {
    "id": "MTvtERA2h7OH"
   },
   "source": [
    "- 곱의 전치는 각 행렬을 전치시키고 위치를 바꿔서 곱한 결과와 같음\n",
    "\n",
    "- 꽤 많이 사용되는 공식이므로 기억해두면 좋음"
   ]
  },
  {
   "cell_type": "code",
   "execution_count": 113,
   "metadata": {
    "id": "1qTh9j8gXTjo"
   },
   "outputs": [
    {
     "name": "stdout",
     "output_type": "stream",
     "text": [
      "[[18 48]\n",
      " [20 53]]\n"
     ]
    }
   ],
   "source": [
    "# 곱의 전치\n",
    "B = np.matrix([[3,4],[6,5],[1,2]])\n",
    "\n",
    "print((A*B).T)\n"
   ]
  },
  {
   "cell_type": "code",
   "execution_count": 114,
   "metadata": {},
   "outputs": [
    {
     "data": {
      "text/plain": [
       "matrix([[18, 48],\n",
       "        [20, 53]])"
      ]
     },
     "execution_count": 114,
     "metadata": {},
     "output_type": "execute_result"
    }
   ],
   "source": [
    "B.T*A.T"
   ]
  },
  {
   "cell_type": "markdown",
   "metadata": {
    "id": "Jl_TRKpLX8EC"
   },
   "source": [
    "### 단위행렬\n",
    "\n",
    "- 단위 행렬Identity은 정사각 행렬(행의 수와 열의 수가 같은 행렬)에서 대각선 성분만 1이고 나머지는 모두 0인 행렬\n",
    "\n",
    "- 행렬곱하면 변화가 없고 곱셈에 대한 교환법칙도 성립"
   ]
  },
  {
   "cell_type": "code",
   "execution_count": 19,
   "metadata": {
    "id": "vDucHTSPXj9c"
   },
   "outputs": [
    {
     "name": "stdout",
     "output_type": "stream",
     "text": [
      "[[2. 4.]\n",
      " [4. 2.]]\n",
      "[[2. 4.]\n",
      " [4. 2.]]\n",
      "[[1. 0.]\n",
      " [0. 1.]]\n"
     ]
    }
   ],
   "source": [
    "A = np.matrix([[2, 4], [4, 2]])\n",
    "I = np.eye(2,2)\n",
    "\n",
    "print(A*I)\n",
    "print(I*A)\n",
    "print(I)"
   ]
  },
  {
   "cell_type": "code",
   "execution_count": 18,
   "metadata": {},
   "outputs": [
    {
     "data": {
      "text/plain": [
       "array([[1., 0., 0.],\n",
       "       [0., 1., 0.],\n",
       "       [0., 0., 1.]])"
      ]
     },
     "execution_count": 18,
     "metadata": {},
     "output_type": "execute_result"
    }
   ],
   "source": [
    "np.eye(3,3)"
   ]
  },
  {
   "cell_type": "markdown",
   "metadata": {
    "id": "DCZ2qRDgysEr"
   },
   "source": [
    "## 행렬을 이용한 데이터 표현"
   ]
  },
  {
   "cell_type": "markdown",
   "metadata": {
    "id": "_sDicT4qzhBk"
   },
   "source": [
    "### 테이블형 데이터\n",
    "\n",
    "- 행렬이 행과 열을 가지느 형태이므로 테이블형 데이터를 표현하기에 매우 적합\n",
    "\n",
    "- 꼭 기억해야할 것은 데이터를 행렬에 담았을 때 개별 샘플이 행벡터가 된다는 점\n",
    "\n",
    "- 따라서 전체 데이터를 담고 있는 행렬 $X$의 모양은 $N \\times D$가 됨\n",
    "\n",
    "- 여기서 $N$은 데이터의 개수, $D$는 개별 데이터가 구성된 숫자의 수(feature 수)\n",
    "\n",
    "- 아래 코드는 `sklearn`에서 기본적으로 제공하는 붓꽃`iris`데이터 셋을 사용하여 데이터를 테이블 형식으로 저장하는 예를 보임\n",
    "\n",
    "- 붓꽃 데이터는 타겟 세 종류에 각 샘플당 숫자(feature)가 4개 들어있는 데이터 셋으로 로드된 `data`는 (N,4)형태가 됨"
   ]
  },
  {
   "cell_type": "code",
   "execution_count": 118,
   "metadata": {
    "id": "g7ldeE5yzkF3"
   },
   "outputs": [],
   "source": [
    "from sklearn.datasets import load_iris"
   ]
  },
  {
   "cell_type": "code",
   "execution_count": 119,
   "metadata": {
    "id": "KDAbTOhf0dPs"
   },
   "outputs": [
    {
     "data": {
      "text/html": [
       "<div>\n",
       "<style scoped>\n",
       "    .dataframe tbody tr th:only-of-type {\n",
       "        vertical-align: middle;\n",
       "    }\n",
       "\n",
       "    .dataframe tbody tr th {\n",
       "        vertical-align: top;\n",
       "    }\n",
       "\n",
       "    .dataframe thead th {\n",
       "        text-align: right;\n",
       "    }\n",
       "</style>\n",
       "<table border=\"1\" class=\"dataframe\">\n",
       "  <thead>\n",
       "    <tr style=\"text-align: right;\">\n",
       "      <th></th>\n",
       "      <th>sepal length (cm)</th>\n",
       "      <th>sepal width (cm)</th>\n",
       "      <th>petal length (cm)</th>\n",
       "      <th>petal width (cm)</th>\n",
       "    </tr>\n",
       "  </thead>\n",
       "  <tbody>\n",
       "    <tr>\n",
       "      <th>0</th>\n",
       "      <td>5.1</td>\n",
       "      <td>3.5</td>\n",
       "      <td>1.4</td>\n",
       "      <td>0.2</td>\n",
       "    </tr>\n",
       "    <tr>\n",
       "      <th>1</th>\n",
       "      <td>4.9</td>\n",
       "      <td>3.0</td>\n",
       "      <td>1.4</td>\n",
       "      <td>0.2</td>\n",
       "    </tr>\n",
       "    <tr>\n",
       "      <th>2</th>\n",
       "      <td>4.7</td>\n",
       "      <td>3.2</td>\n",
       "      <td>1.3</td>\n",
       "      <td>0.2</td>\n",
       "    </tr>\n",
       "    <tr>\n",
       "      <th>3</th>\n",
       "      <td>4.6</td>\n",
       "      <td>3.1</td>\n",
       "      <td>1.5</td>\n",
       "      <td>0.2</td>\n",
       "    </tr>\n",
       "    <tr>\n",
       "      <th>4</th>\n",
       "      <td>5.0</td>\n",
       "      <td>3.6</td>\n",
       "      <td>1.4</td>\n",
       "      <td>0.2</td>\n",
       "    </tr>\n",
       "    <tr>\n",
       "      <th>...</th>\n",
       "      <td>...</td>\n",
       "      <td>...</td>\n",
       "      <td>...</td>\n",
       "      <td>...</td>\n",
       "    </tr>\n",
       "    <tr>\n",
       "      <th>145</th>\n",
       "      <td>6.7</td>\n",
       "      <td>3.0</td>\n",
       "      <td>5.2</td>\n",
       "      <td>2.3</td>\n",
       "    </tr>\n",
       "    <tr>\n",
       "      <th>146</th>\n",
       "      <td>6.3</td>\n",
       "      <td>2.5</td>\n",
       "      <td>5.0</td>\n",
       "      <td>1.9</td>\n",
       "    </tr>\n",
       "    <tr>\n",
       "      <th>147</th>\n",
       "      <td>6.5</td>\n",
       "      <td>3.0</td>\n",
       "      <td>5.2</td>\n",
       "      <td>2.0</td>\n",
       "    </tr>\n",
       "    <tr>\n",
       "      <th>148</th>\n",
       "      <td>6.2</td>\n",
       "      <td>3.4</td>\n",
       "      <td>5.4</td>\n",
       "      <td>2.3</td>\n",
       "    </tr>\n",
       "    <tr>\n",
       "      <th>149</th>\n",
       "      <td>5.9</td>\n",
       "      <td>3.0</td>\n",
       "      <td>5.1</td>\n",
       "      <td>1.8</td>\n",
       "    </tr>\n",
       "  </tbody>\n",
       "</table>\n",
       "<p>150 rows × 4 columns</p>\n",
       "</div>"
      ],
      "text/plain": [
       "     sepal length (cm)  sepal width (cm)  petal length (cm)  petal width (cm)\n",
       "0                  5.1               3.5                1.4               0.2\n",
       "1                  4.9               3.0                1.4               0.2\n",
       "2                  4.7               3.2                1.3               0.2\n",
       "3                  4.6               3.1                1.5               0.2\n",
       "4                  5.0               3.6                1.4               0.2\n",
       "..                 ...               ...                ...               ...\n",
       "145                6.7               3.0                5.2               2.3\n",
       "146                6.3               2.5                5.0               1.9\n",
       "147                6.5               3.0                5.2               2.0\n",
       "148                6.2               3.4                5.4               2.3\n",
       "149                5.9               3.0                5.1               1.8\n",
       "\n",
       "[150 rows x 4 columns]"
      ]
     },
     "execution_count": 119,
     "metadata": {},
     "output_type": "execute_result"
    }
   ],
   "source": [
    "data = load_iris()\n",
    " \n",
    "data = pd.DataFrame(data.data, columns=data.feature_names)\n",
    "\n",
    "data"
   ]
  },
  {
   "cell_type": "code",
   "execution_count": 13,
   "metadata": {},
   "outputs": [
    {
     "data": {
      "text/plain": [
       "pandas.core.frame.DataFrame"
      ]
     },
     "execution_count": 13,
     "metadata": {},
     "output_type": "execute_result"
    }
   ],
   "source": [
    "type(data)"
   ]
  },
  {
   "cell_type": "markdown",
   "metadata": {
    "id": "7ZZJhi3uzi3I"
   },
   "source": [
    "### 이미지\n",
    "\n",
    "- 이미지는 보통 R, G, B 채널로 구성되므로 공간정보(픽셀정보)를 저장하는 행렬 3장으로 표현할 수 있음\n",
    "\n",
    "- 이렇게 구성된 행렬은 엄밀하게 행렬이라 할 수 없고 다차원 배열 또는 텐서라고 이야기함\n",
    "\n",
    "- 채널 정보를 공간정보 앞에 놓을지 뒤에 놓을지에 따라 channel first, channel last라고 표현 가능함\n",
    "    - ch first: `(Channel, Height, Width)`\n",
    "    - ch last: `(Height, Width, Channel)`\n",
    "\n",
    "- `pytorch`에서는 ch first 방식을 사용하고 `tensorflow`에서는 ch last를 기본으로 사용함\n",
    "\n",
    "- 아래 코드는 샘플 이미지를 강사의 구글 드라이브에서 다운로드하여 채널별로 데이터를 읽어 화면에 뿌리는 코드\n",
    "\n",
    "- 이 예에서는 투명한 부분을 나타내는 마지막 채널이 있는 이미지여서 (R, G, B, A)로 표현되었음"
   ]
  },
  {
   "cell_type": "code",
   "execution_count": 14,
   "metadata": {},
   "outputs": [
    {
     "name": "stdout",
     "output_type": "stream",
     "text": [
      "Requirement already satisfied: gdown in /Library/Frameworks/Python.framework/Versions/3.11/lib/python3.11/site-packages (5.2.0)\r\n",
      "Requirement already satisfied: beautifulsoup4 in /Library/Frameworks/Python.framework/Versions/3.11/lib/python3.11/site-packages (from gdown) (4.12.3)\r\n",
      "Requirement already satisfied: filelock in /Library/Frameworks/Python.framework/Versions/3.11/lib/python3.11/site-packages (from gdown) (3.15.4)\r\n",
      "Requirement already satisfied: requests[socks] in /Library/Frameworks/Python.framework/Versions/3.11/lib/python3.11/site-packages (from gdown) (2.32.3)\r\n",
      "Requirement already satisfied: tqdm in /Library/Frameworks/Python.framework/Versions/3.11/lib/python3.11/site-packages (from gdown) (4.66.4)\r\n",
      "Requirement already satisfied: soupsieve>1.2 in /Library/Frameworks/Python.framework/Versions/3.11/lib/python3.11/site-packages (from beautifulsoup4->gdown) (2.5)\r\n",
      "Requirement already satisfied: charset-normalizer<4,>=2 in /Library/Frameworks/Python.framework/Versions/3.11/lib/python3.11/site-packages (from requests[socks]->gdown) (3.3.2)\r\n",
      "Requirement already satisfied: idna<4,>=2.5 in /Library/Frameworks/Python.framework/Versions/3.11/lib/python3.11/site-packages (from requests[socks]->gdown) (3.7)\r\n",
      "Requirement already satisfied: urllib3<3,>=1.21.1 in /Library/Frameworks/Python.framework/Versions/3.11/lib/python3.11/site-packages (from requests[socks]->gdown) (2.2.1)\r\n",
      "Requirement already satisfied: certifi>=2017.4.17 in /Library/Frameworks/Python.framework/Versions/3.11/lib/python3.11/site-packages (from requests[socks]->gdown) (2024.6.2)\r\n",
      "Requirement already satisfied: PySocks!=1.5.7,>=1.5.6 in /Library/Frameworks/Python.framework/Versions/3.11/lib/python3.11/site-packages (from requests[socks]->gdown) (1.7.1)\r\n"
     ]
    }
   ],
   "source": [
    "!pip install gdown"
   ]
  },
  {
   "cell_type": "code",
   "execution_count": 15,
   "metadata": {},
   "outputs": [
    {
     "name": "stdout",
     "output_type": "stream",
     "text": [
      "/Library/Frameworks/Python.framework/Versions/3.11/lib/python3.11/site-packages/gdown/__main__.py:140: FutureWarning: Option `--id` was deprecated in version 4.3.1 and will be removed in 5.0. You don't need to pass it anymore to use a file ID.\n",
      "  warnings.warn(\n",
      "Downloading...\n",
      "From: https://drive.google.com/uc?id=1ycxVgUkjUy4UX8KhXTfJ1QoENIz_zRYv\n",
      "To: /Users/junchangsong/Downloads/Deep_Learning/꼼꼼한딥러닝/ipynb/old_python.png\n",
      "100%|██████████████████████████████████████| 1.94k/1.94k [00:00<00:00, 3.12MB/s]\n"
     ]
    }
   ],
   "source": [
    "!gdown --id 1ycxVgUkjUy4UX8KhXTfJ1QoENIz_zRYv"
   ]
  },
  {
   "cell_type": "code",
   "execution_count": 16,
   "metadata": {
    "id": "POkoSaSJzkc2"
   },
   "outputs": [
    {
     "name": "stdout",
     "output_type": "stream",
     "text": [
      "/Library/Frameworks/Python.framework/Versions/3.11/lib/python3.11/site-packages/gdown/__main__.py:140: FutureWarning: Option `--id` was deprecated in version 4.3.1 and will be removed in 5.0. You don't need to pass it anymore to use a file ID.\n",
      "  warnings.warn(\n",
      "Downloading...\n",
      "From: https://drive.google.com/uc?id=1ycxVgUkjUy4UX8KhXTfJ1QoENIz_zRYv\n",
      "To: /Users/junchangsong/Downloads/Deep_Learning/꼼꼼한딥러닝/ipynb/old_python.png\n",
      "100%|██████████████████████████████████████| 1.94k/1.94k [00:00<00:00, 2.90MB/s]\n"
     ]
    }
   ],
   "source": [
    "!gdown --id 1ycxVgUkjUy4UX8KhXTfJ1QoENIz_zRYv"
   ]
  },
  {
   "cell_type": "code",
   "execution_count": 17,
   "metadata": {
    "id": "1PivN9Bez9mU"
   },
   "outputs": [],
   "source": [
    "import matplotlib as mpl"
   ]
  },
  {
   "cell_type": "code",
   "execution_count": 18,
   "metadata": {
    "id": "ubvVoeV_z9ju"
   },
   "outputs": [],
   "source": [
    "old_python = mpl.image.imread('old_python.png')"
   ]
  },
  {
   "cell_type": "code",
   "execution_count": 19,
   "metadata": {
    "id": "oyObNMyRz9hK"
   },
   "outputs": [
    {
     "data": {
      "text/plain": [
       "(256, 272, 4)"
      ]
     },
     "execution_count": 19,
     "metadata": {},
     "output_type": "execute_result"
    }
   ],
   "source": [
    "old_python.shape"
   ]
  },
  {
   "cell_type": "code",
   "execution_count": 20,
   "metadata": {},
   "outputs": [
    {
     "data": {
      "text/plain": [
       "array([[[0.5019608, 0.5019608, 0.       , 0.       ],\n",
       "        [0.5019608, 0.5019608, 0.       , 0.       ],\n",
       "        [0.5019608, 0.5019608, 0.       , 0.       ],\n",
       "        ...,\n",
       "        [0.5019608, 0.5019608, 0.       , 0.       ],\n",
       "        [0.5019608, 0.5019608, 0.       , 0.       ],\n",
       "        [0.5019608, 0.5019608, 0.       , 0.       ]],\n",
       "\n",
       "       [[0.5019608, 0.5019608, 0.       , 0.       ],\n",
       "        [0.5019608, 0.5019608, 0.       , 0.       ],\n",
       "        [0.5019608, 0.5019608, 0.       , 0.       ],\n",
       "        ...,\n",
       "        [0.5019608, 0.5019608, 0.       , 0.       ],\n",
       "        [0.5019608, 0.5019608, 0.       , 0.       ],\n",
       "        [0.5019608, 0.5019608, 0.       , 0.       ]],\n",
       "\n",
       "       [[0.5019608, 0.5019608, 0.       , 0.       ],\n",
       "        [0.5019608, 0.5019608, 0.       , 0.       ],\n",
       "        [0.5019608, 0.5019608, 0.       , 0.       ],\n",
       "        ...,\n",
       "        [0.5019608, 0.5019608, 0.       , 0.       ],\n",
       "        [0.5019608, 0.5019608, 0.       , 0.       ],\n",
       "        [0.5019608, 0.5019608, 0.       , 0.       ]],\n",
       "\n",
       "       ...,\n",
       "\n",
       "       [[1.       , 1.       , 1.       , 0.       ],\n",
       "        [1.       , 1.       , 1.       , 0.       ],\n",
       "        [1.       , 1.       , 1.       , 0.       ],\n",
       "        ...,\n",
       "        [1.       , 1.       , 1.       , 0.       ],\n",
       "        [1.       , 1.       , 1.       , 0.       ],\n",
       "        [1.       , 1.       , 1.       , 0.       ]],\n",
       "\n",
       "       [[1.       , 1.       , 1.       , 0.       ],\n",
       "        [1.       , 1.       , 1.       , 0.       ],\n",
       "        [1.       , 1.       , 1.       , 0.       ],\n",
       "        ...,\n",
       "        [1.       , 1.       , 1.       , 0.       ],\n",
       "        [1.       , 1.       , 1.       , 0.       ],\n",
       "        [1.       , 1.       , 1.       , 0.       ]],\n",
       "\n",
       "       [[1.       , 1.       , 1.       , 0.       ],\n",
       "        [1.       , 1.       , 1.       , 0.       ],\n",
       "        [1.       , 1.       , 1.       , 0.       ],\n",
       "        ...,\n",
       "        [1.       , 1.       , 1.       , 0.       ],\n",
       "        [1.       , 1.       , 1.       , 0.       ],\n",
       "        [1.       , 1.       , 1.       , 0.       ]]], dtype=float32)"
      ]
     },
     "execution_count": 20,
     "metadata": {},
     "output_type": "execute_result"
    }
   ],
   "source": [
    "old_python"
   ]
  },
  {
   "cell_type": "code",
   "execution_count": 21,
   "metadata": {
    "id": "Z3nYY9xS0ANT"
   },
   "outputs": [
    {
     "data": {
      "image/png": "[encoded data removed]",
      "text/plain": [
       "<Figure size 1500x500 with 5 Axes>"
      ]
     },
     "metadata": {},
     "output_type": "display_data"
    }
   ],
   "source": [
    "fig, ax = plt.subplots(figsize=(15,5), nrows=1, ncols=5)\n",
    "\n",
    "ch = ['Red', 'Green', 'Blue', 'Alpha']\n",
    "cm = ['Reds', 'Greens', 'Blues', 'binary']\n",
    "\n",
    "for i, ax_i in enumerate(ax[:-1]):\n",
    "    ax_i.imshow(old_python[:,:,i], cmap=cm[i])\n",
    "    ax_i.set_title(ch[i])\n",
    "\n",
    "ax[-1].imshow(old_python)\n",
    "\n",
    "plt.show()"
   ]
  },
  {
   "cell_type": "markdown",
   "metadata": {
    "id": "LZcLHEQV3Rpc"
   },
   "source": [
    "## 행렬곱\n",
    "\n",
    "- 앞서 설명한 행렬곱의 형태는 가장 기본적으로 행렬곱을 설명하는 방식\n",
    "\n",
    "- 여기서는 동일한 행렬곱을 세 가지 다른 시각으로 설명함\n",
    "\n",
    "- 결국 같은 연산이지만 이렇게 다른 의미를 부여하여 이해하기 힘들고 이런 방식으로 행렬곱을 이해하면 강의 후반에 선형회귀 식을 정리하거나 인공신경망의 역전파 공식을 이해하는데 매우 큰 도움이 됨"
   ]
  },
  {
   "cell_type": "markdown",
   "metadata": {
    "id": "-JDUF91j3Y3K"
   },
   "source": [
    "### 열 결합\n",
    "\n",
    "- 행렬곱은 앞에서 곱해지는 행렬의 열들을 뒤에서 곱해지는 열의 숫자로 선형결합하여 결과 열을 만드는 방식으로 설명 가능"
   ]
  },
  {
   "cell_type": "code",
   "execution_count": 125,
   "metadata": {
    "id": "HnamqYRJ1fI3"
   },
   "outputs": [
    {
     "name": "stdout",
     "output_type": "stream",
     "text": [
      "A:\n",
      "[[8 9 6]\n",
      " [1 2 2]\n",
      " [4 4 7]\n",
      " [9 8 5]]\n",
      "b:\n",
      "[4 5 4]\n",
      "size A:(4, 3)\n",
      "size b:(3,)\n",
      "size A*b: (4,)\n",
      "A*b:\n",
      "[101  22  64  96]\n"
     ]
    }
   ],
   "source": [
    "A = np.random.randint(1,10,12).reshape(4,3)\n",
    "b = np.random.randint(1,10,3)\n",
    "\n",
    "print(f\"A:\\n{A}\\nb:\\n{b}\")\n",
    "print(f\"size A:{A.shape}\\nsize b:{b.shape}\")\n",
    "print(f\"size A*b: {(np.dot(A,b)).shape}\\nA*b:\\n{np.dot(A,b)}\")"
   ]
  },
  {
   "cell_type": "code",
   "execution_count": 126,
   "metadata": {
    "id": "5zhGyYPF1xF4"
   },
   "outputs": [
    {
     "data": {
      "text/plain": [
       "array([101,  22,  64,  96])"
      ]
     },
     "execution_count": 126,
     "metadata": {},
     "output_type": "execute_result"
    }
   ],
   "source": [
    "# Create empty matrix and compute Matrix multiplcation\n",
    "c = np.zeros(4, dtype=int)\n",
    "\n",
    "for i in range(A.shape[1]):\n",
    "    c +=  A[:, i]*b[i]\n",
    "\n",
    "c"
   ]
  },
  {
   "cell_type": "code",
   "execution_count": 127,
   "metadata": {},
   "outputs": [
    {
     "data": {
      "text/plain": [
       "3"
      ]
     },
     "execution_count": 127,
     "metadata": {},
     "output_type": "execute_result"
    }
   ],
   "source": [
    "A.shape[1]"
   ]
  },
  {
   "cell_type": "code",
   "execution_count": 128,
   "metadata": {},
   "outputs": [
    {
     "data": {
      "text/plain": [
       "array([8, 1, 4, 9])"
      ]
     },
     "execution_count": 128,
     "metadata": {},
     "output_type": "execute_result"
    }
   ],
   "source": [
    "A[:,0]"
   ]
  },
  {
   "cell_type": "code",
   "execution_count": 129,
   "metadata": {},
   "outputs": [
    {
     "data": {
      "text/plain": [
       "4"
      ]
     },
     "execution_count": 129,
     "metadata": {},
     "output_type": "execute_result"
    }
   ],
   "source": [
    "b[0]"
   ]
  },
  {
   "cell_type": "code",
   "execution_count": 130,
   "metadata": {},
   "outputs": [
    {
     "data": {
      "text/plain": [
       "array([32,  4, 16, 36])"
      ]
     },
     "execution_count": 130,
     "metadata": {},
     "output_type": "execute_result"
    }
   ],
   "source": [
    "A[:,0]*b[0]"
   ]
  },
  {
   "cell_type": "code",
   "execution_count": 131,
   "metadata": {},
   "outputs": [
    {
     "data": {
      "text/plain": [
       "array([45, 10, 20, 40])"
      ]
     },
     "execution_count": 131,
     "metadata": {},
     "output_type": "execute_result"
    }
   ],
   "source": [
    "A[:,1]*b[1]"
   ]
  },
  {
   "cell_type": "code",
   "execution_count": 132,
   "metadata": {
    "id": "S62qiF3N2JeJ"
   },
   "outputs": [
    {
     "name": "stdout",
     "output_type": "stream",
     "text": [
      "[[2 9 4]\n",
      " [2 6 1]\n",
      " [9 8 8]\n",
      " [2 2 3]] (4, 3)\n",
      "\n",
      "\n",
      "[[9 6]\n",
      " [3 2]\n",
      " [5 4]] (3, 2)\n"
     ]
    },
    {
     "data": {
      "text/plain": [
       "(array([[ 65,  46],\n",
       "        [ 41,  28],\n",
       "        [145, 102],\n",
       "        [ 39,  28]]),\n",
       " (4, 2))"
      ]
     },
     "execution_count": 132,
     "metadata": {},
     "output_type": "execute_result"
    }
   ],
   "source": [
    "A = np.random.randint(1,10,12).reshape(4,3)\n",
    "B = np.random.randint(1,10,6).reshape(3,2)\n",
    "print(A,A.shape)\n",
    "print('\\n')\n",
    "print(B,B.shape)\n",
    "np.dot(A,B),np.dot(A,B).shape"
   ]
  },
  {
   "cell_type": "code",
   "execution_count": 133,
   "metadata": {
    "id": "7IJaYJZ32OAi"
   },
   "outputs": [
    {
     "name": "stdout",
     "output_type": "stream",
     "text": [
      "[18 18 81 18]\n",
      "[ 45  36 105  24]\n",
      "[ 65  41 145  39]\n",
      "[12 12 54 12]\n",
      "[30 24 70 16]\n",
      "[ 46  28 102  28]\n",
      "[[ 65.  46.]\n",
      " [ 41.  28.]\n",
      " [145. 102.]\n",
      " [ 39.  28.]]\n"
     ]
    }
   ],
   "source": [
    "C = np.zeros((4,2))\n",
    "\n",
    "for j in range(B.shape[1]):\n",
    "    c = np.zeros(4, dtype=int)\n",
    "    for i in range(A.shape[1]):\n",
    "        c += A[:,i]*B[i,j]\n",
    "        print(c)\n",
    "    C[:,j] = c\n",
    "\n",
    "print(C)"
   ]
  },
  {
   "cell_type": "markdown",
   "metadata": {
    "id": "dzMGhnsx3a5A"
   },
   "source": [
    "### 행 결합\n",
    "\n",
    "- 행렬곱은 뒤에서 곱해지는 행을 앞에서 곱해지는 행의 숫자로 선형결합하여 결과 행렬의 행을 만드는 방식으로 설명 가능"
   ]
  },
  {
   "cell_type": "code",
   "execution_count": 134,
   "metadata": {
    "id": "u0_A4zyK2HQk"
   },
   "outputs": [
    {
     "data": {
      "text/plain": [
       "array([[ 65,  41, 145,  39],\n",
       "       [ 46,  28, 102,  28]])"
      ]
     },
     "execution_count": 134,
     "metadata": {},
     "output_type": "execute_result"
    }
   ],
   "source": [
    "At = A.T\n",
    "Bt = B.T\n",
    "\n",
    "np.dot(Bt,At)"
   ]
  },
  {
   "cell_type": "code",
   "execution_count": 135,
   "metadata": {},
   "outputs": [
    {
     "data": {
      "text/plain": [
       "(3, 4)"
      ]
     },
     "execution_count": 135,
     "metadata": {},
     "output_type": "execute_result"
    }
   ],
   "source": [
    "A.T.shape"
   ]
  },
  {
   "cell_type": "code",
   "execution_count": 136,
   "metadata": {},
   "outputs": [
    {
     "data": {
      "text/plain": [
       "(2, 3)"
      ]
     },
     "execution_count": 136,
     "metadata": {},
     "output_type": "execute_result"
    }
   ],
   "source": [
    "B.T.shape"
   ]
  },
  {
   "cell_type": "code",
   "execution_count": 137,
   "metadata": {
    "id": "deA1kbKM3ytM"
   },
   "outputs": [
    {
     "name": "stdout",
     "output_type": "stream",
     "text": [
      "[[ 65.  41. 145.  39.]\n",
      " [ 46.  28. 102.  28.]]\n"
     ]
    }
   ],
   "source": [
    "C = np.zeros((2,4))\n",
    "for i in range(Bt.shape[0]):\n",
    "    c = np.zeros(4, dtype=int)\n",
    "    for j in range(At.shape[0]):\n",
    "        c += Bt[i,j]*At[j,:]\n",
    "    C[i,:]= c\n",
    "print(C)"
   ]
  },
  {
   "cell_type": "markdown",
   "metadata": {
    "id": "D83gpj1u3cjb"
   },
   "source": [
    "### 외적합 (Outer Product)\n",
    "\n",
    "- 행렬곱은 앞에서 곱해지는 행렬의 열과 뒤에서 곱해지는 행렬의 행을 외적하여 행렬을 만들고\n",
    "\n",
    "- 이렇게 만들어진 행렬 여러 개를 모두 더하여 결과 행렬을 만드는 방식으로 설명 가능\n",
    "\n",
    "- 예를 들어 (4,3) 행렬과 (3,2)행렬을 곱할 때 앞 행렬에서 길이 4짜리 열 3개가 있고 뒤 행렬에서 길이 2짜리 행 3개가 있게 됨\n",
    "\n",
    "- 앞 행렬의 열과 뒤 행렬의 행을 짝지으면 세쌍이 되는데 이렇게 (3,1) 인 열과 (1,2)인 행을 행렬곱하면 (이렇게 하는 연산을 벡터의 외적이라 함) (3,2)인 행렬이 나오게 됨\n",
    "\n",
    "- 이렇게 행렬만드는 연산을 세번 할 수 있고 결과로 얻어진 행렬 세 개를 모두 더하면 (이 행렬 세개는 (3,2)로 모양이 모두 같음) 결과 행렬이 얻어짐"
   ]
  },
  {
   "cell_type": "code",
   "execution_count": 143,
   "metadata": {
    "id": "XlLHB1WeBEy9"
   },
   "outputs": [
    {
     "name": "stdout",
     "output_type": "stream",
     "text": [
      "[[5 4 4]\n",
      " [2 3 5]\n",
      " [4 6 4]\n",
      " [3 4 3]] (4, 3)\n",
      "[[3 3]\n",
      " [5 4]\n",
      " [6 8]] (3, 2)\n",
      "A*B:\n",
      "[[59 63]\n",
      " [51 58]\n",
      " [66 68]\n",
      " [47 49]]\n",
      "size: A*B: (4, 2)\n"
     ]
    }
   ],
   "source": [
    "A = np.random.randint(1,10,12).reshape(4,3)\n",
    "B = np.random.randint(1,10,6).reshape(3,2)\n",
    "print(A,A.shape)\n",
    "print(B,B.shape)\n",
    "print(f\"A*B:\\n{np.dot(A,B)}\")\n",
    "print(f\"size: A*B: {np.dot(A,B).shape}\")"
   ]
  },
  {
   "cell_type": "code",
   "execution_count": 141,
   "metadata": {
    "id": "CasMDfBTMr1A"
   },
   "outputs": [
    {
     "name": "stdout",
     "output_type": "stream",
     "text": [
      "[[16. 21.]\n",
      " [76. 59.]\n",
      " [62. 63.]\n",
      " [50. 47.]]\n"
     ]
    }
   ],
   "source": [
    "C = np.zeros((4,2))\n",
    "\n",
    "for j in range(A.shape[1]):\n",
    "    C += np.dot(A[:,[j]], B[[j],:])\n",
    "\n",
    "\n",
    "print(C)"
   ]
  },
  {
   "cell_type": "code",
   "execution_count": null,
   "metadata": {},
   "outputs": [],
   "source": []
  }
 ],
 "metadata": {
  "colab": {
   "authorship_tag": "ABX9TyM85sGfsARFsAGrV7Vxf9Qr",
   "collapsed_sections": [],
   "name": "04-matrix.ipynb",
   "provenance": []
  },
  "kernelspec": {
   "display_name": "Python 3 (ipykernel)",
   "language": "python",
   "name": "python3"
  },
  "language_info": {
   "codemirror_mode": {
    "name": "ipython",
    "version": 3
   },
   "file_extension": ".py",
   "mimetype": "text/x-python",
   "name": "python",
   "nbconvert_exporter": "python",
   "pygments_lexer": "ipython3",
   "version": "3.11.8"
  }
 },
 "nbformat": 4,
 "nbformat_minor": 1
}
